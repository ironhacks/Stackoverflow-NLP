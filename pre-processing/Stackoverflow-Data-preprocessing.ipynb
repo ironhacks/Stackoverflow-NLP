{
 "cells": [
  {
   "cell_type": "markdown",
   "metadata": {},
   "source": [
    "# This is a notebook to for Stackoverflow Preprocessing"
   ]
  },
  {
   "cell_type": "markdown",
   "metadata": {},
   "source": [
    "> Steps: \n",
    "1. Explore the data (length of posts, words, ...)"
   ]
  },
  {
   "cell_type": "markdown",
   "metadata": {},
   "source": [
    "# Initialize the connection"
   ]
  },
  {
   "cell_type": "code",
   "execution_count": 35,
   "metadata": {},
   "outputs": [],
   "source": [
    "import os\n",
    "from google.cloud import bigquery\n",
    "from google.cloud import bigquery_storage\n",
    "from google.oauth2 import service_account\n",
    "from google.cloud.bigquery import magics\n",
    "import pandas as pd\n",
    "import matplotlib.pyplot as plt"
   ]
  },
  {
   "cell_type": "code",
   "execution_count": 36,
   "metadata": {},
   "outputs": [],
   "source": [
    "os.environ['GOOGLE_APPLICATION_CREDENTIALS'] ='key.json'\n",
    "bigquery_client = bigquery.Client(project='bigquery-public-data') \n",
    "bigquery_client = bigquery.Client() #stackoverflow"
   ]
  },
  {
   "cell_type": "markdown",
   "metadata": {},
   "source": [
    "# Query"
   ]
  },
  {
   "cell_type": "code",
   "execution_count": 37,
   "metadata": {},
   "outputs": [
    {
     "name": "stdout",
     "output_type": "stream",
     "text": [
      "              id                                              title  \\\n",
      "0       66138537          DataExplorer with at least two given tags   \n",
      "1       66229417  Using a single object (dataframe) across multi...   \n",
      "2       66288134  Can we use rpl and leach routing protocol toge...   \n",
      "3       66293452  How to clone dynamic component with button click?   \n",
      "4       66317042  Can Firebase Admin SDK be used in Angular Karm...   \n",
      "...          ...                                                ...   \n",
      "244963  66199108   Quad Core ARM 11MP for Nintendo 3DS CPU clocking   \n",
      "244964  66160719  Does glibc (GNU C Library) provide a way to ob...   \n",
      "244965  66368662  document.forms[1] submits document.forms[0]. Why?   \n",
      "244966  66315214  How can I export and save data in csv format o...   \n",
      "244967  66274948  Why am I seeing more RFO (Read For Ownership) ...   \n",
      "\n",
      "                                                     body  \\\n",
      "0       <p>I would to fetch data from Data Explorer, I...   \n",
      "1       <p>I am hosting a server on a private computer...   \n",
      "2       <p>as I am new to wsn please can anyone tell m...   \n",
      "3       <p>My client requirement is duplication of exi...   \n",
      "4       <p>I’ve got an Angular CLI app and am testing ...   \n",
      "...                                                   ...   \n",
      "244963  <p>Okay, I will try to be as specific as possi...   \n",
      "244964  <p>I have a pointer. I know its address (I got...   \n",
      "244965  <p><div class=\"snippet\" data-lang=\"js\" data-hi...   \n",
      "244966  <p>I would like to export and save data locall...   \n",
      "244967  <h2>Checkout Edit3</h2>\\n<p>I was getting the ...   \n",
      "\n",
      "                                                     tags  \n",
      "0                                            dataexplorer  \n",
      "1                                          rstudio-server  \n",
      "2                                                  routes  \n",
      "3                              angular-dynamic-components  \n",
      "4                 angularfire2|angularfire|firebase-admin  \n",
      "...                                                   ...  \n",
      "244963                                        arm|cpu|3ds  \n",
      "244964                        c|linux|malloc|x86-64|glibc  \n",
      "244965                                         javascript  \n",
      "244966  java|android|android-intent|android-file|andro...  \n",
      "244967  x86-64|intel|cpu-architecture|memcpy|micro-opt...  \n",
      "\n",
      "[244968 rows x 4 columns]\n"
     ]
    }
   ],
   "source": [
    "QUERY = \"\"\"\n",
    "Select id, title, body, tags\n",
    "FROM `bigquery-public-data.stackoverflow.posts_questions`\n",
    "WHERE CAST(creation_date as DATE) > '2021-01-20'\n",
    "    \"\"\"\n",
    "\n",
    "query_job = bigquery_client.query(QUERY)\n",
    "data = query_job.to_dataframe()\n",
    "print(data)"
   ]
  },
  {
   "cell_type": "markdown",
   "metadata": {},
   "source": [
    "# IMPORT THE LIBRARIES FOR PREPROCESSING"
   ]
  },
  {
   "cell_type": "code",
   "execution_count": 47,
   "metadata": {},
   "outputs": [
    {
     "name": "stdout",
     "output_type": "stream",
     "text": [
      "Requirement already satisfied: gensim in /Users/fenypatel/opt/anaconda3/lib/python3.8/site-packages (4.0.1)\n",
      "Requirement already satisfied: scipy>=0.18.1 in /Users/fenypatel/opt/anaconda3/lib/python3.8/site-packages (from gensim) (1.6.2)\n",
      "Requirement already satisfied: smart-open>=1.8.1 in /Users/fenypatel/opt/anaconda3/lib/python3.8/site-packages (from gensim) (5.1.0)\n",
      "Requirement already satisfied: numpy>=1.11.3 in /Users/fenypatel/opt/anaconda3/lib/python3.8/site-packages (from gensim) (1.20.1)\n",
      "Requirement already satisfied: python-Levenshtein in /Users/fenypatel/opt/anaconda3/lib/python3.8/site-packages (0.12.2)\n",
      "Requirement already satisfied: setuptools in /Users/fenypatel/opt/anaconda3/lib/python3.8/site-packages (from python-Levenshtein) (52.0.0.post20210125)\n"
     ]
    }
   ],
   "source": [
    "!pip install gensim\n",
    "!pip install python-Levenshtein\n",
    "import nltk\n",
    "from nltk.stem.snowball import SnowballStemmer\n",
    "from nltk.corpus import stopwords\n",
    "import gensim\n",
    "import regex as re"
   ]
  },
  {
   "cell_type": "markdown",
   "metadata": {},
   "source": [
    "# TOKENIZE, REMOVE STOPWORDS"
   ]
  },
  {
   "cell_type": "code",
   "execution_count": 39,
   "metadata": {},
   "outputs": [
    {
     "name": "stdout",
     "output_type": "stream",
     "text": [
      "[['would', 'to', 'fetch', 'data', 'from', 'data', 'explorer', 'wrote', 'my', 'code', 'below', 'but', 'what', 'is', 'wrong', 'exactly', 'with', 'this', 'condition', 'the', 'condition', 'is', 'data', 'including', 'at', 'least', 'these', 'two', 'given', 'tags', 'as', 'input', 'so', 'it', 'doesn', 'matter', 'what', 'are', 'the', 'others', 'if', 'exists', 'pre', 'code', 'declare', 'tagstring', 'nvarchar', 'tagname', 'string', 'declare', 'tagstring', 'nvarchar', 'tagname', 'string', 'select', 'top', 'topfetched', 'id', 'as', 'qid', 'creationdate', 'as', 'qcreationdate', 'score', 'as', 'qscore', 'viewcount', 'as', 'qviewcount', 'favoritecount', 'as', 'qfavoritecount', 'commentcount', 'as', 'qcommentcount', 'answercount', 'as', 'qanswercount', 'as', 'lasteditdate', 'as', 'qlasteditdate', 'as', 'title', 'as', 'qtitle', 'body', 'as', 'qbody', 'id', 'as', 'aid', 'creationdate', 'as', 'acreationdate', 'score', 'as', 'ascore', 'commentcount', 'as', 'acommentcount', 'lasteditdate', 'as', 'alasteditdate', 'as', 'body', 'as', 'abody', 'from', 'posts', 'as', 'join', 'posts', 'as', 'on', 'id', 'inner', 'join', 'posttags', 'as', 'question_tags', 'on', 'question_tags', 'postid', 'id', 'inner', 'join', 'tags', 'on', 'question_tags', 'tagid', 'tags', 'id', 'where', 'id', 'gt', 'and', 'tags', 'tagname', 'in', 'tagstring', 'tagstring', 'order', 'by', 'viewcount', 'desc', 'code', 'pre'], ['am', 'hosting', 'server', 'on', 'private', 'computer', 'with', 'limited', 'memory', 'gb', 'would', 'like', 'to', 'load', 'fairly', 'large', 'dataset', 'code', 'large_dataset', 'tsv', 'code', 'gb', 'for', 'multiple', 'users', 'on', 'this', 'network', 'is', 'it', 'possible', 'to', 'load', 'this', 'dataset', 'once', 'in', 'memory', 'and', 'allow', 'each', 'user', 'access', 'to', 'the', 'same', 'dataframe', 'object', 'the', 'goal', 'is', 'to', 'allow', 'users', 'to', 'run', 'queries', 'using', 'tidyverse', 'functions', 'for', 'example', 'create', 'load', 'this', 'data', 'frame', 'using', 'the', 'code', 'admin', 'code', 'account', 'pre', 'code', 'df', 'lt', 'read_tsv', 'quot', 'large_dataset', 'tsv', 'quot', 'code', 'pre', 'and', 'allow', 'usera', 'userb', 'and', 'userc', 'access', 'to', 'the', 'same', 'data', 'object', 'that', 'code', 'admin', 'code', 'created', 'is', 'there', 'way', 'to', 'do', 'this', 'without', 'having', 'to', 'use', 'sql'], ['as', 'am', 'new', 'to', 'wsn', 'please', 'can', 'anyone', 'tell', 'me', 'that', 'whether', 'or', 'not', 'can', 'we', 'use', 'rpl', 'and', 'leach', 'protocol', 'together', 'ie', 'leach', 'for', 'cluster', 'formation', 'and', 'rpl', 'for', 'communication']]\n"
     ]
    }
   ],
   "source": [
    "body = data['body']\n",
    "\n",
    "def tokenize_to_words(sentences):\n",
    "    for sentence in sentences:\n",
    "        yield(gensim.utils.simple_preprocess(str(sentence), deacc=True)) \n",
    "        \n",
    "tokenized_words = list(tokenize_to_words(body))\n",
    "print(tokenized_words[0:3])"
   ]
  },
  {
   "cell_type": "markdown",
   "metadata": {},
   "source": [
    "# LENGTH OF BODY"
   ]
  },
  {
   "cell_type": "code",
   "execution_count": 40,
   "metadata": {},
   "outputs": [
    {
     "name": "stdout",
     "output_type": "stream",
     "text": [
      "minimum body length:  37\n",
      "maximum body length:  60993\n"
     ]
    }
   ],
   "source": [
    "print(\"minimum body length: \", body.str.len().min())\n",
    "print(\"maximum body length: \", body.str.len().max())"
   ]
  },
  {
   "cell_type": "markdown",
   "metadata": {},
   "source": [
    "# REMOVE STOP WORDS"
   ]
  },
  {
   "cell_type": "code",
   "execution_count": 41,
   "metadata": {},
   "outputs": [
    {
     "name": "stderr",
     "output_type": "stream",
     "text": [
      "[nltk_data] Downloading package stopwords to\n",
      "[nltk_data]     /Users/fenypatel/nltk_data...\n",
      "[nltk_data]   Package stopwords is already up-to-date!\n"
     ]
    }
   ],
   "source": [
    "nltk.download('stopwords')\n",
    "stop_words = stopwords.words('english')"
   ]
  },
  {
   "cell_type": "code",
   "execution_count": 42,
   "metadata": {},
   "outputs": [
    {
     "name": "stdout",
     "output_type": "stream",
     "text": [
      "[['would', 'fetch', 'data', 'data', 'explorer', 'wrote', 'code', 'wrong', 'exactly', 'condition', 'condition', 'data', 'including', 'least', 'two', 'given', 'tags', 'input', 'matter', 'others', 'exists', 'pre', 'code', 'declare', 'tagstring', 'nvarchar', 'tagname', 'string', 'declare', 'tagstring', 'nvarchar', 'tagname', 'string', 'select', 'top', 'topfetched', 'id', 'qid', 'creationdate', 'qcreationdate', 'score', 'qscore', 'viewcount', 'qviewcount', 'favoritecount', 'qfavoritecount', 'commentcount', 'qcommentcount', 'answercount', 'qanswercount', 'lasteditdate', 'qlasteditdate', 'title', 'qtitle', 'body', 'qbody', 'id', 'aid', 'creationdate', 'acreationdate', 'score', 'ascore', 'commentcount', 'acommentcount', 'lasteditdate', 'alasteditdate', 'body', 'abody', 'posts', 'join', 'posts', 'id', 'inner', 'join', 'posttags', 'question_tags', 'question_tags', 'postid', 'id', 'inner', 'join', 'tags', 'question_tags', 'tagid', 'tags', 'id', 'id', 'gt', 'tags', 'tagname', 'tagstring', 'tagstring', 'order', 'viewcount', 'desc', 'code', 'pre'], ['hosting', 'server', 'private', 'computer', 'limited', 'memory', 'gb', 'would', 'like', 'load', 'fairly', 'large', 'dataset', 'code', 'large_dataset', 'tsv', 'code', 'gb', 'multiple', 'users', 'network', 'possible', 'load', 'dataset', 'memory', 'allow', 'user', 'access', 'dataframe', 'object', 'goal', 'allow', 'users', 'run', 'queries', 'using', 'tidyverse', 'functions', 'example', 'create', 'load', 'data', 'frame', 'using', 'code', 'admin', 'code', 'account', 'pre', 'code', 'df', 'lt', 'read_tsv', 'quot', 'large_dataset', 'tsv', 'quot', 'code', 'pre', 'allow', 'usera', 'userb', 'userc', 'access', 'data', 'object', 'code', 'admin', 'code', 'created', 'way', 'without', 'use', 'sql'], ['new', 'wsn', 'please', 'anyone', 'tell', 'whether', 'use', 'rpl', 'leach', 'protocol', 'together', 'ie', 'leach', 'cluster', 'formation', 'rpl', 'communication']]\n"
     ]
    }
   ],
   "source": [
    "def remove_stopwords(texts):\n",
    "    return [[word for word in gensim.utils.simple_preprocess(str(doc)) if word not in stop_words] for doc in texts]\n",
    "\n",
    "removed_stop = remove_stopwords(tokenized_words)\n",
    "print(removed_stop[0:3])"
   ]
  },
  {
   "cell_type": "markdown",
   "metadata": {},
   "source": [
    "# STEMMING"
   ]
  },
  {
   "cell_type": "code",
   "execution_count": 43,
   "metadata": {},
   "outputs": [
    {
     "name": "stdout",
     "output_type": "stream",
     "text": [
      "[['would', 'fetch', 'data', 'data', 'explor', 'wrote', 'code', 'wrong', 'exact', 'condit', 'condit', 'data', 'includ', 'least', 'two', 'given', 'tag', 'input', 'matter', 'other', 'exist', 'pre', 'code', 'declar', 'tagstr', 'nvarchar', 'tagnam', 'string', 'declar', 'tagstr', 'nvarchar', 'tagnam', 'string', 'select', 'top', 'topfetch', 'id', 'qid', 'creationd', 'qcreationd', 'score', 'qscore', 'viewcount', 'qviewcount', 'favoritecount', 'qfavoritecount', 'commentcount', 'qcommentcount', 'answercount', 'qanswercount', 'lasteditd', 'qlasteditd', 'titl', 'qtitl', 'bodi', 'qbodi', 'id', 'aid', 'creationd', 'acreationd', 'score', 'ascor', 'commentcount', 'acommentcount', 'lasteditd', 'alasteditd', 'bodi', 'abodi', 'post', 'join', 'post', 'id', 'inner', 'join', 'posttag', 'question_tag', 'question_tag', 'postid', 'id', 'inner', 'join', 'tag', 'question_tag', 'tagid', 'tag', 'id', 'id', 'gt', 'tag', 'tagnam', 'tagstr', 'tagstr', 'order', 'viewcount', 'desc', 'code', 'pre'], ['host', 'server', 'privat', 'comput', 'limit', 'memori', 'gb', 'would', 'like', 'load', 'fair', 'larg', 'dataset', 'code', 'large_dataset', 'tsv', 'code', 'gb', 'multipl', 'user', 'network', 'possibl', 'load', 'dataset', 'memori', 'allow', 'user', 'access', 'datafram', 'object', 'goal', 'allow', 'user', 'run', 'queri', 'use', 'tidyvers', 'function', 'exampl', 'creat', 'load', 'data', 'frame', 'use', 'code', 'admin', 'code', 'account', 'pre', 'code', 'df', 'lt', 'read_tsv', 'quot', 'large_dataset', 'tsv', 'quot', 'code', 'pre', 'allow', 'usera', 'userb', 'userc', 'access', 'data', 'object', 'code', 'admin', 'code', 'creat', 'way', 'without', 'use', 'sql'], ['new', 'wsn', 'pleas', 'anyon', 'tell', 'whether', 'use', 'rpl', 'leach', 'protocol', 'togeth', 'ie', 'leach', 'cluster', 'format', 'rpl', 'communic'], ['client', 'requir', 'duplic', 'exist', 'compon', 'multipl', 'form', 'bind', 'valu', 'exampl', 'use', 'output', 'eventemitt', 'work', 'fine', 'parent', 'compon', 'know', 'write', 'copi', 'button', 'code', 'dynam', 'creat', 'compon', 'anyon', 'pleas', 'help', 'stackblitz', 'url', 'click', 'copi', 'button', 'initi', 'load', 'compon', 'multipl', 'duplic', 'compon', 'work', 'href', 'https', 'stackblitz', 'com', 'edit', 'angular', 'materi', 'design', 'ushb', 'rel', 'nofollow', 'noreferr', 'https', 'stackblitz', 'com', 'edit', 'angular', 'materi', 'design', 'ushb', 'thank'], ['got', 'angular', 'cli', 'app', 'test', 'karma', 'jasmin', 'ad', 'firebas', 'want', 'run', 'test', 'use', 'firebas', 'admin', 'sdk', 'local', 'emul', 'test', 'thing', 'like', 'fireston', 'secur', 'rule', 'cloud', 'function', 'strong', 'also', 'run', 'test', 'use', 'karma', 'jasmin', 'need', 'addit', 'test', 'framework', 'like', 'mocha', 'chai', 'strong', 'ask', 'tri', 'use', 'karma', 'firebas', 'test', 'tool', 'run', 'kind', 'weird', 'error', 'understand', 'start', 'wonder', 'even', 'possibl', 'desir', 'admin', 'sdk', 'doc', 'say', 'blockquot', 'pleas', 'also', 'note', 'admin', 'sdk', 'use', 'server', 'side', 'back', 'end', 'environ', 'control', 'app', 'develop', 'includ', 'server', 'serverless', 'platform', 'premis', 'cloud', 'recommend', 'use', 'admin', 'sdk', 'client', 'side', 'environ', 'blockquot', 'hand', 'surpris', 'seen', 'offici', 'doc', 'state', 'explicit', 'want', 'add', 'firebas', 'test', 'angular', 'app', 'made', 'googl', 'must', 'add', 'anoth', 'test', 'environ', 'use', 'mocha', 'mani', 'test', 'framework', 'seen', 'similar', 'note', 'angularfir', 'project', 'start', 'sound', 'like', 'work', 'mayb', 'admin', 'sdk', 'run', 'node', 'js', 'environ', 'differ', 'browser', 'think', 'karma', 'use', 'test', 'thing', 'like', 'call', 'admin', 'sdk', 'creat', 'firestor', 'document', 'user', 'local', 'firebas', 'emul', 'strong', 'like', 'avoid', 'complex', 'second', 'test', 'environ', 'strong', 'mayb', 'inevit'], ['sampl', 'tri', 'success', 'pre', 'code', 'const', 'queri', 'cte', 'select', 'targetnam', 'id', 'targettyp', 'level', 'parentact', 'null', 'union', 'select', 'targetnam', 'id', 'targettyp', 'level', 'level', 'cte', 'inner', 'join', 'parentact', 'cte', 'id', 'select', 'cte', 'const', 'action', 'alasql', 'queri', 'data', 'data', 'consol', 'log', 'action', 'sort', 'json', 'stringifi', 'action', 'code', 'pre', 'get', 'result', 'result', 'second', 'part', 'queri', 'href', 'https', 'stack', 'imgur', 'com', 'znbyd', 'png', 'rel', 'nofollow', 'noreferr', 'img', 'src', 'https', 'stack', 'imgur', 'com', 'znbyd', 'png', 'alt', 'enter', 'imag', 'descript'], ['possibl', 'show', 'stream', 'camer', 'connect', 'via', 'bt', 'flutter', 'applic', 'plugin', 'thank'], ['ek', 'setup', 'consist', 'manag', 'nodegroup', 'certain', 'pod', 'hard', 'resourc', 'consumpt', 'term', 'cpu', 'memori', 'usag', 'pod', 'servic', 'mesh', 'howev', 'instal', 'servic', 'mesh', 'creat', 'pod', 'take', 'virtual', 'network', 'interfac', 'ec', 'node', 'due', 'scale', 'node', 'max', 'number', 'virtual', 'interfac', 'avail', 'say', 'like', 'medium', 'instanc', 'creat', 'extra', 'node', 'ek', 'cluster', 'consum', 'much', 'resourc', 'make', 'effici', 'node', 'use', 'fullest'], ['follow', 'code', 'add', 'quot', 'order', 'quot', 'tabl', 'setup', 'mysql', 'send', 'backsid', 'one', 'post', 'request', 'idea', 'send', 'first', 'post', 'request', 'add', 'customerid', 'galleryid', 'mysql', 'creat', 'new', 'quot', 'order', 'quot', 'add', 'item', 'also', 'add', 'mani', 'mani', 'tabl', 'setup', 'call', 'loop', 'remain', 'paintingid', 'send', 'post', 'request', 'request', 'queri', 'order', 'tabl', 'recent', 'order', 'add', 'customerid', 'galleryid', 'tabl', 'well', 'reason', 'seem', 'work', 'three', 'request', 'sent', 'random', 'crash', 'around', 'guess', 'main', 'question', 'abl', 'multipl', 'post', 'request', 'like', 'caus', 'error', 'tri', 'post', 'request', 'within', 'loop', 'code', 'help', 'appreci', 'pre', 'code', 'button', 'add', 'galleri', 'tabl', 'var', 'addbutton', 'document', 'createel', 'quot', 'button', 'quot', 'var', 'addbuttontext', 'document', 'textcont', 'quot', 'submit', 'quot', 'addbutton', 'appendchild', 'document', 'createtextnod', 'addbuttontext', 'document', 'getelementbyid', 'quot', 'quot', 'appendchild', 'addbutton', 'client', 'click', 'add', 'galleri', 'submit', 'button', 'function', 'addbuttonclick', 'var', 'req', 'new', 'xmlhttprequest', 'creat', 'new', 'request', 'get', 'valu', 'enter', 'user', 'var', 'document', 'getelementbyid', 'quot', 'customeridform', 'quot', 'valu', 'var', 'document', 'getelementbyid', 'quot', 'paintingsidform', 'quot', 'valu', 'one', 'item', 'tabl', 'fill', 'display', 'error', 'item', 'check', 'item', 'fill', 'error', 'add', 'tabl', 'undefin', 'quot', 'quot', 'document', 'getelementbyid', 'quot', 'quot', 'textcont', 'quot', 'error', 'miss', 'custom', 'id', 'quot', 'event', 'preventdefault', 'els', 'document', 'getelementbyid', 'quot', 'quot', 'textcont', 'quot', 'quot', 'undefin', 'quot', 'quot', 'document', 'getelementbyid', 'quot', 'quot', 'textcont', 'quot', 'error', 'miss', 'paintingid', 'quot', 'event', 'preventdefault', 'els', 'document', 'getelementbyid', 'quot', 'quot', 'textcont', 'quot', 'quot', 'remov', 'whitespac', 'charact', 'replac', 'quot', 'quot', 'split', 'string', 'number', 'split', 'var', 'split', 'quot', 'quot', 'stuff', 'send', 'post', 'request', 'var', 'payload', 'payload', 'payload', 'check', 'requir', 'item', 'fileld', 'continu', 'send', 'data', 'databas', 'els', 'display', 'error', 'anyth', 'quot', 'quot', 'amp', 'amp', 'quot', 'quot', 'send', 'initi', 'order', 'creat', 'new', 'order', 'add', 'first', 'paint', 'send', 'insert', 'request', 'server', 'via', 'get', 'req', 'open', 'quot', 'post', 'quot', 'quot', 'http', 'flip', 'engr', 'oregonst', 'edu', 'quot', 'port', 'quot', 'order', 'quot', 'true', 'post', 'request', 'set', 'header', 'req', 'content', 'type', 'applic', 'json', 'add', 'event', 'listen', 'async', 'request', 'function', 'req', 'load', 'function', 'consol', 'log', 'quot', 'ad', 'order', 'request', 'status', 'quot', 'req', 'status', 'test', 'req', 'status', 'gt', 'amp', 'amp', 'req', 'status', 'lt', 'request', 'send', 'good', 'consol', 'log', 'quot', 'success', 'ad', 'order', 'quot', 'els', 'error', 'consol', 'log', 'quot', 'error', 'network', 'request', 'quot', 'req', 'statustext', 'req', 'status', 'bad', 'custom', 'request', 'alert', 'quot', 'invalid', 'custom', 'id', 'given', 'pleas', 'tri', 'quot', 'return', 'els', 'req', 'status', 'galleri', 'id', 'found', 'alert', 'quot', 'invalid', 'paint', 'id', 'given', 'pleas', 'tri', 'quot', 'return', 'event', 'preventdefault', 'event', 'preventdefault', 'send', 'request', 'req', 'send', 'json', 'stringifi', 'payload', 'event', 'preventdefault', 'add', 'extra', 'paint', 'new', 'order', 'number', 'var', 'lt', 'length', 'var', 'req', 'new', 'xmlhttprequest', 'payload', 'send', 'insert', 'request', 'server', 'via', 'get', 'req', 'open', 'quot', 'post', 'quot', 'quot', 'http', 'flip', 'engr', 'oregonst', 'edu', 'quot', 'port', 'quot', 'moreord', 'quot', 'true', 'post', 'request', 'set', 'header', 'req', 'content', 'type', 'applic', 'json', 'add', 'event', 'listen', 'async', 'request', 'function', 'req', 'load', 'function', 'consol', 'log', 'quot', 'ad', 'order', 'request', 'status', 'quot', 'req', 'status', 'test', 'req', 'status', 'gt', 'amp', 'amp', 'req', 'status', 'lt', 'request', 'send', 'good', 'consol', 'log', 'quot', 'success', 'ad', 'order', 'quot', 'els', 'error', 'consol', 'log', 'quot', 'error', 'network', 'request', 'quot', 'req', 'statustext', 'req', 'status', 'bad', 'custom', 'request', 'alert', 'quot', 'invalid', 'custom', 'id', 'given', 'pleas', 'tri', 'quot', 'event', 'preventdefault', 'window', 'locat', 'replac', 'order', 'return', 'els', 'req', 'status', 'galleri', 'id', 'found', 'alert', 'quot', 'invalid', 'paint', 'id', 'given', 'pleas', 'tri', 'note', 'paint', 'id', 'ad', 'success', 'quot', 'event', 'preventdefault', 'window', 'locat', 'replac', 'order', 'return', 'event', 'preventdefault', 'event', 'preventdefault', 'send', 'request', 'req', 'send', 'json', 'stringifi', 'payload', 'alert', 'quot', 'paint', 'ad', 'success', 'order', 'quot', 'event', 'preventdefault', 'window', 'locat', 'replac', 'order', 'return', 'code', 'pre'], ['tri', 'add', 'proxypass', 'rule', 'local', 'httd', 'conf', 'file', 'proxypass', 'quot', 'exampl', 'quot', 'quot', 'http', 'localhost', 'exampl', 'quot', 'quot', 'exampl', 'quot', 'quot', 'http', 'localhost', 'exampl', 'quot', 'timeout', 'proxytimeout', 'redirect', 'port', 'hit', 'http', 'localhost', 'exampl', 'content', 'display', 'http', 'localhost', 'exampl']]\n"
     ]
    }
   ],
   "source": [
    "stemmer = SnowballStemmer('english')\n",
    "stemmed = [[stemmer.stem(word) for word in t_list] for t_list in removed_stop]\n",
    "print(stemmed[0:10])"
   ]
  },
  {
   "cell_type": "markdown",
   "metadata": {},
   "source": [
    "# ADD PROCESSED WORDS TO DATAFRAME"
   ]
  },
  {
   "cell_type": "code",
   "execution_count": 44,
   "metadata": {},
   "outputs": [],
   "source": [
    "tokenized_frame = pd.DataFrame(columns = ['tokenized'])\n",
    "j = 0\n",
    "for i in removed_stop:\n",
    "    tokenized_frame.loc[j, 'tokenized'] = i\n",
    "    j = j + 1"
   ]
  },
  {
   "cell_type": "code",
   "execution_count": 45,
   "metadata": {},
   "outputs": [
    {
     "name": "stdout",
     "output_type": "stream",
     "text": [
      "         id                                              title  \\\n",
      "0  66138537          DataExplorer with at least two given tags   \n",
      "1  66229417  Using a single object (dataframe) across multi...   \n",
      "2  66288134  Can we use rpl and leach routing protocol toge...   \n",
      "3  66293452  How to clone dynamic component with button click?   \n",
      "4  66317042  Can Firebase Admin SDK be used in Angular Karm...   \n",
      "\n",
      "                                                body  \\\n",
      "0  <p>I would to fetch data from Data Explorer, I...   \n",
      "1  <p>I am hosting a server on a private computer...   \n",
      "2  <p>as I am new to wsn please can anyone tell m...   \n",
      "3  <p>My client requirement is duplication of exi...   \n",
      "4  <p>I’ve got an Angular CLI app and am testing ...   \n",
      "\n",
      "                                      tags  \\\n",
      "0                             dataexplorer   \n",
      "1                           rstudio-server   \n",
      "2                                   routes   \n",
      "3               angular-dynamic-components   \n",
      "4  angularfire2|angularfire|firebase-admin   \n",
      "\n",
      "                                           tokenized  \n",
      "0  [would, fetch, data, data, explorer, wrote, co...  \n",
      "1  [hosting, server, private, computer, limited, ...  \n",
      "2  [new, wsn, please, anyone, tell, whether, use,...  \n",
      "3  [client, requirement, duplication, existing, c...  \n",
      "4  [got, angular, cli, app, testing, karma, jasmi...  \n"
     ]
    }
   ],
   "source": [
    "final_data = pd.concat([data, tokenized_frame], axis=1)\n",
    "print(final_data.head())"
   ]
  },
  {
   "cell_type": "code",
   "execution_count": 40,
   "metadata": {},
   "outputs": [],
   "source": [
    "final_data.to_csv('preprocessed.csv')"
   ]
  },
  {
   "cell_type": "markdown",
   "metadata": {},
   "source": [
    "# TAG EXPLORATION"
   ]
  },
  {
   "cell_type": "code",
   "execution_count": 92,
   "metadata": {},
   "outputs": [
    {
     "name": "stdout",
     "output_type": "stream",
     "text": [
      "         id                                              title  \\\n",
      "0  66138537          DataExplorer with at least two given tags   \n",
      "1  66229417  Using a single object (dataframe) across multi...   \n",
      "2  66288134  Can we use rpl and leach routing protocol toge...   \n",
      "3  66293452  How to clone dynamic component with button click?   \n",
      "4  66317042  Can Firebase Admin SDK be used in Angular Karm...   \n",
      "\n",
      "                                                body  \\\n",
      "0  <p>I would to fetch data from Data Explorer, I...   \n",
      "1  <p>I am hosting a server on a private computer...   \n",
      "2  <p>as I am new to wsn please can anyone tell m...   \n",
      "3  <p>My client requirement is duplication of exi...   \n",
      "4  <p>I’ve got an Angular CLI app and am testing ...   \n",
      "\n",
      "                                      tags  \\\n",
      "0                             dataexplorer   \n",
      "1                           rstudio-server   \n",
      "2                                   routes   \n",
      "3               angular-dynamic-components   \n",
      "4  angularfire2|angularfire|firebase-admin   \n",
      "\n",
      "                                           tokenized  \\\n",
      "0  [would, fetch, data, data, explorer, wrote, co...   \n",
      "1  [hosting, server, private, computer, limited, ...   \n",
      "2  [new, wsn, please, anyone, tell, whether, use,...   \n",
      "3  [client, requirement, duplication, existing, c...   \n",
      "4  [got, angular, cli, app, testing, karma, jasmi...   \n",
      "\n",
      "                                tokenized_tags  \n",
      "0                               [dataexplorer]  \n",
      "1                             [rstudio-server]  \n",
      "2                                     [routes]  \n",
      "3                 [angular-dynamic-components]  \n",
      "4  [angularfire2, angularfire, firebase-admin]  \n"
     ]
    }
   ],
   "source": [
    "tags = []\n",
    "for i, row in final_data.iterrows():\n",
    "    tags.append(list(row[\"tags\"].split(\"|\")))\n",
    "final_data[\"tokenized_tags\"] = tags\n",
    "print(final_data.head())"
   ]
  },
  {
   "cell_type": "code",
   "execution_count": 93,
   "metadata": {},
   "outputs": [],
   "source": [
    "tag_count_dict = {}\n",
    "for sublist in tags:\n",
    "    for i in sublist:\n",
    "        if i not in tag_count_dict.keys():\n",
    "            tag_count_dict[i] = 0\n",
    "        tag_count_dict[i] += 1"
   ]
  },
  {
   "cell_type": "code",
   "execution_count": 94,
   "metadata": {},
   "outputs": [
    {
     "name": "stdout",
     "output_type": "stream",
     "text": [
      "python 37482\n"
     ]
    }
   ],
   "source": [
    "max_key = max(tag_count_dict, key=tag_count_dict.get)\n",
    "print(max_key, tag_count_dict[max_key])"
   ]
  },
  {
   "cell_type": "code",
   "execution_count": 110,
   "metadata": {},
   "outputs": [
    {
     "name": "stdout",
     "output_type": "stream",
     "text": [
      "['python', 'javascript', 'java', 'reactjs', 'c#', 'html', 'android', 'php', 'node.js', 'python-3.x', 'r', 'css', 'c++', 'pandas', 'sql', 'flutter', 'angular', 'django', 'typescript', 'arrays', 'mysql', 'swift', 'c', 'ios', 'jquery']\n"
     ]
    },
    {
     "data": {
      "image/png": "[encoded data removed]",
      "text/plain": [
       "<Figure size 1440x720 with 1 Axes>"
      ]
     },
     "metadata": {
      "needs_background": "light"
     },
     "output_type": "display_data"
    }
   ],
   "source": [
    "top_10_tags = sorted(tag_count_dict, key = tag_count_dict.get, reverse=True)[:25]\n",
    "print(top_10_tags)\n",
    "fig = plt.figure()\n",
    "plt.rcParams[\"figure.figsize\"] = (30, 20)\n",
    "ax = fig.add_axes([0,0,1,1])\n",
    "count = [tag_count_dict[i] for i in top_10_tags]\n",
    "ax.bar(top_10_tags, count)\n",
    "plt.show()"
   ]
  },
  {
   "cell_type": "markdown",
   "metadata": {},
   "source": [
    "# TOTAL TAGS"
   ]
  },
  {
   "cell_type": "code",
   "execution_count": 97,
   "metadata": {},
   "outputs": [
    {
     "name": "stdout",
     "output_type": "stream",
     "text": [
      "738830\n"
     ]
    }
   ],
   "source": [
    "total_tags = 0\n",
    "for sublist in tags:\n",
    "    total_tags += len(sublist)\n",
    "print(total_tags)"
   ]
  },
  {
   "cell_type": "code",
   "execution_count": null,
   "metadata": {},
   "outputs": [],
   "source": []
  }
 ],
 "metadata": {
  "kernelspec": {
   "display_name": "Python 3",
   "language": "python",
   "name": "python3"
  },
  "language_info": {
   "codemirror_mode": {
    "name": "ipython",
    "version": 3
   },
   "file_extension": ".py",
   "mimetype": "text/x-python",
   "name": "python",
   "nbconvert_exporter": "python",
   "pygments_lexer": "ipython3",
   "version": "3.8.8"
  }
 },
 "nbformat": 4,
 "nbformat_minor": 4
}
