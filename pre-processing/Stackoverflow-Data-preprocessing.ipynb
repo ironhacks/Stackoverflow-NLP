{
 "cells": [
  {
   "cell_type": "markdown",
   "metadata": {},
   "source": [
    "# This is a notebook to for Stackoverflow Preprocessing"
   ]
  },
  {
   "cell_type": "markdown",
   "metadata": {},
   "source": [
    "> Steps: \n",
    "1. Explore the data (length of posts, words, ...)"
   ]
  },
  {
   "cell_type": "markdown",
   "metadata": {},
   "source": [
    "# Initialize the connection"
   ]
  },
  {
   "cell_type": "code",
   "execution_count": 29,
   "metadata": {},
   "outputs": [],
   "source": [
    "import os\n",
    "from google.cloud import bigquery\n",
    "from google.cloud import bigquery_storage\n",
    "from google.oauth2 import service_account\n",
    "from google.cloud.bigquery import magics\n",
    "import pandas as pd\n",
    "import matplotlib.pyplot as plt"
   ]
  },
  {
   "cell_type": "code",
   "execution_count": 30,
   "metadata": {},
   "outputs": [],
   "source": [
    "os.environ['GOOGLE_APPLICATION_CREDENTIALS'] ='key.json'\n",
    "bigquery_client = bigquery.Client(project='bigquery-public-data') \n",
    "bigquery_client = bigquery.Client() #stackoverflow"
   ]
  },
  {
   "cell_type": "markdown",
   "metadata": {},
   "source": [
    "# Query"
   ]
  },
  {
   "cell_type": "code",
   "execution_count": 31,
   "metadata": {},
   "outputs": [
    {
     "name": "stdout",
     "output_type": "stream",
     "text": [
      "              id title                                               body  \\\n",
      "0       65819402  None  <p>It happened to me when I tried to load a fu...   \n",
      "1       65819404  None  <p>If you're on Ubuntu 18.04, you can use <cod...   \n",
      "2       65819406  None  <p>I think I managed to reject the subscriptio...   \n",
      "3       65819420  None  <p>This task is honestly a horrible example of...   \n",
      "4       65819422  None  <p>In Silverstripe 4 the Elemental module is n...   \n",
      "...          ...   ...                                                ...   \n",
      "241144  66043363  None  <p>If you do it this way I think it will be so...   \n",
      "241145  66062888  None  <p>we can use this for activating oracle 10 g ...   \n",
      "241146  66062996  None  <p>Like this?</p>\\n<p><a href=\"https://i.stack...   \n",
      "241147  66124731  None  <p>any one try this</p>\\n<pre class=\"lang-js p...   \n",
      "241148  66153004  None  <pre><code>&lt;meta property='og:title' conten...   \n",
      "\n",
      "        tags  \n",
      "0       None  \n",
      "1       None  \n",
      "2       None  \n",
      "3       None  \n",
      "4       None  \n",
      "...      ...  \n",
      "241144  None  \n",
      "241145  None  \n",
      "241146  None  \n",
      "241147  None  \n",
      "241148  None  \n",
      "\n",
      "[241149 rows x 4 columns]\n"
     ]
    }
   ],
   "source": [
    "QUERY = \"\"\"\n",
    "Select id, title, body, tags\n",
    "FROM `bigquery-public-data.stackoverflow.posts_answers`\n",
    "WHERE CAST(creation_date as DATE) > '2021-01-20'\n",
    "    \"\"\"\n",
    "\n",
    "query_job = bigquery_client.query(QUERY)\n",
    "data = query_job.to_dataframe()\n",
    "print(data)"
   ]
  },
  {
   "cell_type": "markdown",
   "metadata": {},
   "source": [
    "# IMPORT THE LIBRARIES FOR PREPROCESSING"
   ]
  },
  {
   "cell_type": "code",
   "execution_count": 32,
   "metadata": {},
   "outputs": [
    {
     "name": "stdout",
     "output_type": "stream",
     "text": [
      "Requirement already satisfied: gensim in /Users/fenypatel/opt/anaconda3/lib/python3.8/site-packages (4.0.1)\n",
      "Requirement already satisfied: numpy>=1.11.3 in /Users/fenypatel/opt/anaconda3/lib/python3.8/site-packages (from gensim) (1.20.1)\n",
      "Requirement already satisfied: smart-open>=1.8.1 in /Users/fenypatel/opt/anaconda3/lib/python3.8/site-packages (from gensim) (5.1.0)\n",
      "Requirement already satisfied: scipy>=0.18.1 in /Users/fenypatel/opt/anaconda3/lib/python3.8/site-packages (from gensim) (1.6.2)\n",
      "Requirement already satisfied: python-Levenshtein in /Users/fenypatel/opt/anaconda3/lib/python3.8/site-packages (0.12.2)\n",
      "Requirement already satisfied: setuptools in /Users/fenypatel/opt/anaconda3/lib/python3.8/site-packages (from python-Levenshtein) (52.0.0.post20210125)\n"
     ]
    }
   ],
   "source": [
    "!pip install gensim\n",
    "!pip install python-Levenshtein\n",
    "import nltk\n",
    "from nltk.stem.porter import PorterStemmer\n",
    "from nltk.corpus import stopwords\n",
    "import gensim"
   ]
  },
  {
   "cell_type": "markdown",
   "metadata": {},
   "source": [
    "# TOKENIZE, REMOVE STOPWORDS"
   ]
  },
  {
   "cell_type": "code",
   "execution_count": 33,
   "metadata": {},
   "outputs": [],
   "source": [
    "body = data['body']\n",
    "\n",
    "def tokenize_to_words(sentences):\n",
    "    for sentence in sentences:\n",
    "        yield(gensim.utils.simple_preprocess(str(sentence), deacc=True)) \n",
    "        \n",
    "tokenized_words = list(tokenize_to_words(body))"
   ]
  },
  {
   "cell_type": "markdown",
   "metadata": {},
   "source": [
    "# STEMMING"
   ]
  },
  {
   "cell_type": "code",
   "execution_count": 34,
   "metadata": {},
   "outputs": [
    {
     "name": "stdout",
     "output_type": "stream",
     "text": [
      "[['it', 'happen', 'to', 'me', 'when', 'tri', 'to', 'load', 'fullscreen', 'ad', 'with', 'imag', 'creativ', 'that', 'exceed', 'the', 'size', 'avail', 'to', 'show', 'them', 'in', 'the', 'app'], ['if', 'you', 're', 'on', 'ubuntu', 'you', 'can', 'use', 'code', 'sudo', 'apt', 'instal', 'nvidia', 'cuda', 'toolkit', 'code', 'the', 'version', 'of', 'cuda', 'in', 'that', 'packag', 'as', 'of', 'januari', 'is', 'onc', 'you', 've', 'run', 'that', 'you', 'can', 'confirm', 'that', 'it', 'is', 'inde', 'with', 'code', 'nvcc', 'version', 'code'], ['think', 'manag', 'to', 'reject', 'the', 'subscript', 'by', 'just', 'return', 'null', 'in', 'code', 'presend', 'code', 'it', 'will', 'ignor', 'the', 'subscript', 'messag', 'instead', 'of', 'throw', 'error', 'you', 'can', 'also', 'notifi', 'the', 'user', 'by', 'send', 'notif', 'through', 'socket', 'to', 'the', 'user', 'pre', 'code', 'public', 'chatinterceptor', 'resourcebundl', 'resourcebundl', 'channeluserrepo', 'lazi', 'socket', 'thi', 'resourcebundl', 'resourcebundl', 'thi', 'channeluserrepo', 'channeluserrepo', 'thi', 'socket', 'socket', 'overrid', 'public', 'messag', 'lt', 'gt', 'presend', 'nonnul', 'messag', 'lt', 'gt', 'messag', 'nonnul', 'messagechannel', 'channel', 'headeraccessor', 'wrap', 'messag', 'if', 'stompcommand', 'subscrib', 'equal', 'headeraccessor', 'getcommand', 'if', 'checkisban', 'headeraccessor', 'getdestin', 'headeraccessor', 'getus', 'socket', 'headeraccessor', 'getus', 'servicepath', 'notif', 'new', 'socketrespons', 'resourcebundl', 'getmessag', 'quot', 'err', 'channel', 'ban', 'quot', 'error', 'return', 'null', 'return', 'messag', 'code', 'pre'], ['thi', 'task', 'is', 'honestli', 'horribl', 'exampl', 'of', 'thread', 'as', 'it', 'complet', 'unnecessari', 'to', 'do', 'here', 'either', 'way', 'thi', 'is', 'one', 'way', 'of', 'do', 'it', 'not', 'actual', 'sure', 'if', 'the', 'task', 'want', 'you', 'to', 'print', 'the', 'result', 'in', 'the', 'object', 'function', 'directli', 'or', 'as', 'part', 'of', 'the', 'main', 'program', 'the', 'latter', 'is', 'what', 've', 'done', 'here', 'although', 'directli', 'assign', 'to', 'mutabl', 'object', 'is', 'not', 'what', 'you', 'would', 'actual', 'want', 'to', 'do', 'it', 'doesn', 'actual', 'matter', 'in', 'thi', 'case', 'howev', 'if', 'thi', 'is', 'what', 'wa', 'expect', 'use', 'href', 'http', 'doc', 'python', 'org', 'librari', 'queue', 'html', 'rel', 'nofollow', 'noreferr', 'thread', 'queue', 'instead', 'which', 'allow', 'you', 'to', 'directli', 'get', 'the', 'return', 'valu', 'of', 'thread', 'in', 'safe', 'manner', 'pre', 'code', 'import', 'thread', 'thread', 'output', 'are', 'done', 'by', 'pass', 'in', 'mutabl', 'object', 'to', 'the', 'thread', 'run', 'function', 'thi', 'is', 'not', 'the', 'best', 'way', 'gener', 'if', 'you', 'have', 'to', 'use', 'thread', 'you', 'don', 'expect', 'them', 'to', 'return', 'anyth', 'the', 'proper', 'way', 'to', 'do', 'thi', 'would', 'be', 'to', 'use', 'python', 'queue', 'which', 'haven', 'done', 'here', 'class', 'cuboid', 'float', 'float', 'float', 'def', 'self', 'float', 'float', 'float', 'self', 'self', 'self', 'output', 'is', 'mutabl', 'object', 'as', 'an', 'argument', 'these', 'are', 'basic', 'like', 'pointer', 'they', 're', 'not', 'copi', 'of', 'object', 'thi', 'is', 'not', 'thread', 'safe', 'though', 'thi', 'isn', 'problem', 'in', 'thi', 'case', 'as', 'we', 're', 'join', 'the', 'thread', 'anyway', 'def', 'getvolum', 'self', 'output', 'index', 'int', 'gt', 'none', 'output', 'index', 'self', 'self', 'self', 'same', 'thing', 'here', 'def', 'getsidelength', 'self', 'output', 'index', 'int', 'gt', 'none', 'the', 'total', 'side', 'length', 'of', 'cuboid', 'not', 'cube', 'is', 'calcul', 'differ', 'output', 'index', 'self', 'self', 'self', 'size', 'to', 'use', 'as', 'initi', 'paramet', 'for', 'the', 'cuboid', 'object', 'size', 'mutabl', 'object', 'to', 'use', 'as', 'output', 'output', 'index', 'of', 'cuboid', 'volum', 'length', 'could', 'also', 'use', 'dict', 'for', 'thi', 'to', 'make', 'it', 'easier', 'to', 'understand', 'output', 'iter', 'through', 'initi', 'size', 'for', 'in', 'rang', 'len', 'size', 'popul', 'the', 'output', 'list', 'output', 'append', 'none', 'none', 'instanti', 'cuboid', 'cuboi', 'cuboid', 'size', 'creat', 'thread', 'notic', 'the', 'pass', 'in', 'arg', 'thread', 'thread', 'thread', 'target', 'cuboi', 'getvolum', 'arg', 'mutabl', 'sub', 'list', 'output', 'index', 'to', 'assign', 'to', 'of', 'sub', 'list', 'effect', 'output', 'same', 'thing', 'here', 'thread', 'thread', 'thread', 'target', 'cuboi', 'getsidelength', 'arg', 'output', 'start', 'and', 'join', 'the', 'thread', 'join', 'thread', 'block', 'the', 'thread', 'which', 'call', 'join', 'which', 'is', 'the', 'main', 'thread', 'in', 'thi', 'case', 'until', 'it', 'finish', 'thread', 'start', 'thread', 'join', 'same', 'thing', 'here', 'thread', 'start', 'thread', 'join', 'print', 'valu', 'of', 'output', 'print', 'quot', 'volum', 'of', 'cuboid', 'quot', 'output', 'print', 'quot', 'length', 'of', 'cuboid', 'quot', 'output', 'code', 'pre', 'which', 'will', 'output', 'pre', 'code', 'volum', 'of', 'cuboid', 'length', 'of', 'cuboid', 'volum', 'of', 'cuboid', 'length', 'of', 'cuboid', 'code', 'pre'], ['in', 'silverstrip', 'the', 'element', 'modul', 'is', 'namespac', 'in', 'our', 'fixtur', 'yml', 'file', 'we', 'must', 'provid', 'the', 'full', 'namespac', 'path', 'for', 'code', 'elementalarea', 'code', 'also', 'on', 'ha', 'mani', 'relationship', 'we', 'can', 'set', 'the', 'relationship', 'on', 'the', 'ha', 'one', 'side', 'the', 'element', 'pre', 'code', 'dnadesign', 'element', 'model', 'elementalarea', 'element', 'area', 'titl', 'area', 'dnadesign', 'element', 'test', 'src', 'testpag', 'page', 'titl', 'page', 'urlseg', 'test', 'page', 'elementalareaid', 'gt', 'dnadesign', 'element', 'model', 'elementalarea', 'element', 'area', 'myelement', 'my', 'element', 'titl', 'element', 'parentid', 'gt', 'dnadesign', 'element', 'model', 'elementalarea', 'element', 'area', 'code', 'pre'], ['href', 'http', 'draft', 'csswg', 'org', 'selector', 'rel', 'nofollow', 'noreferr', 'css', 'selector', 'level', 'will', 'introduc', 'sever', 'column', 'selector', 'such', 'as', 'the', 'href', 'http', 'develop', 'mozilla', 'org', 'en', 'us', 'doc', 'web', 'css', 'rel', 'nofollow', 'noreferr', 'column', 'combin', 'code', 'code', 'href', 'http', 'develop', 'mozilla', 'org', 'en', 'us', 'doc', 'web', 'css', 'nth', 'col', 'rel', 'nofollow', 'noreferr', 'code', 'nth', 'col', 'code', 'pseudo', 'class', 'and', 'relev', 'for', 'thi', 'question', 'href', 'http', 'develop', 'mozilla', 'org', 'en', 'us', 'doc', 'web', 'css', 'nth', 'last', 'col', 'rel', 'nofollow', 'noreferr', 'code', 'nth', 'last', 'col', 'code', 'pseudo', 'class', 'div', 'class', 'snippet', 'data', 'lang', 'js', 'data', 'hide', 'fals', 'data', 'consol', 'true', 'data', 'babel', 'fals', 'div', 'class', 'snippet', 'code', 'pre', 'class', 'snippet', 'code', 'css', 'lang', 'css', 'prettyprint', 'overrid', 'code', 'ul', 'display', 'grid', 'grid', 'templat', 'column', 'repeat', 'fr', 'list', 'style', 'none', 'pad', 'li', 'background', 'color', 'gold', 'border', 'px', 'solid', 'forestgreen', 'block', 'size', 'em', 'experiment', 'li', 'nth', 'last', 'col', 'background', 'color', 'firebrick', 'code', 'pre', 'pre', 'class', 'snippet', 'code', 'html', 'lang', 'html', 'prettyprint', 'overrid', 'code', 'lt', 'ul', 'gt', 'lt', 'li', 'gt', 'lt', 'li', 'gt', 'lt', 'li', 'gt', 'lt', 'li', 'gt', 'lt', 'li', 'gt', 'lt', 'li', 'gt', 'lt', 'li', 'gt', 'lt', 'li', 'gt', 'lt', 'li', 'gt', 'lt', 'li', 'gt', 'lt', 'li', 'gt', 'lt', 'li', 'gt', 'lt', 'li', 'gt', 'lt', 'li', 'gt', 'lt', 'li', 'gt', 'lt', 'li', 'gt', 'lt', 'li', 'gt', 'lt', 'li', 'gt', 'lt', 'li', 'gt', 'lt', 'li', 'gt', 'lt', 'li', 'gt', 'lt', 'li', 'gt', 'lt', 'li', 'gt', 'lt', 'li', 'gt', 'lt', 'ul', 'gt', 'code', 'pre', 'div', 'div', 'current', 'januari', 'no', 'browser', 'ha', 'implement', 'it', 'and', 'not', 'sure', 'ani', 'polyfil', 'exist'], ['pre', 'code', 'const', 'discord', 'requir', 'discord', 'js', 'modul', 'export', 'bot', 'oldm', 'newm', 'messag', 'gt', 'const', 'emb', 'new', 'discord', 'messageemb', 'setcolor', 'newm', 'displayhexcolor', 'settitl', 'updat', 'member', 'le', 'prio', 'du', 'lyce', 'setdescript', 'newm', 'ete', 'modifi', 'if', 'oldm', 'nicknam', 'newm', 'nicknam', 'emb', 'addfield', 'quot', 'modif', 'du', 'pseudo', 'quot', 'oldm', 'nicknam', 'newm', 'nicknam', 'fals', 'if', 'oldm', 'avatar', 'newm', 'avatar', 'emb', 'setimag', 'newm', 'user', 'dynam', 'true', 'if', 'oldm', 'user', 'discrimin', 'newm', 'user', 'discrimin', 'emb', 'addfield', 'quot', 'modif', 'du', 'discrimin', 'quot', 'oldm', 'user', 'discrimin', 'newm', 'user', 'discrimin', 'fals', 'if', 'oldm', 'user', 'usernam', 'newm', 'user', 'usernam', 'emb', 'addfield', 'quot', 'modif', 'du', 'nom', 'utilisateur', 'quot', 'oldm', 'user', 'usernam', 'newm', 'user', 'usernam', 'fals', 'if', 'emb', 'field', 'length', 'gt', 'botlog', 'send', 'emb', 'code', 'pre'], ['you', 'can', 'use', 'handler', 'with', 'an', 'amount', 'of', 'second', 'you', 'want', 'to', 'stay', 'befor', 'remov', 'the', 'view', 'from', 'the', 'layout', 'here', 'am', 'use', 'second', 'pre', 'code', 'new', 'view', 'onclicklisten', 'overrid', 'public', 'void', 'onclick', 'view', 'view', 'imageview', 'img', 'new', 'imageview', 'activ', 'img', 'setid', 'view', 'generateviewid', 'img', 'mipmap', 'palito', 'addview', 'img', 'new', 'handler', 'getmainloop', 'postdelay', 'new', 'runnabl', 'overrid', 'public', 'void', 'run', 'removeview', 'imag', 'second', 'code', 'pre'], ['assum', 'there', 'is', 'more', 'to', 'your', 'function', 'than', 'you', 've', 'put', 'in', 'here', 'becaus', 'don', 'see', 'where', 'the', 'code', 'site', 'code', 'variabl', 'is', 'be', 'creat', 'you', 'could', 'do', 'someth', 'along', 'these', 'line', 'to', 'get', 'better', 'idea', 'of', 'where', 'it', 'stop', 'pre', 'code', 'import', 'request', 'site', 'open', 'site', 'txt', 'encod', 'quot', 'utf', 'quot', 'readlin', 'l_site', 'for', 'in', 'site', 'with', 'open', 'result', 'txt', 'as', 'fb', 'for', 'site', 'in', 'l_site', 'tri', 'print', 'quot', 'process', 'site', 'quot', 'result', 'request', 'get', 'site', 'allow_redirect', 'true', 'text', 'fb', 'write', 'result', 'except', 'except', 'as', 'rais', 'code', 'pre'], ['sinc', 'the', 'href', 'http', 'mongodb', 'github', 'io', 'mongo', 'java', 'driver', 'what', 'new', 'rel', 'nofollow', 'noreferr', 'version', 'of', 'the', 'mongo', 'java', 'driver', 'code', 'instant', 'code', 'code', 'locald', 'code', 'and', 'code', 'localdatetim', 'code', 'are', 'support', 'you', 'don', 'need', 'to', 'code', 'your', 'own', 'codec', 'anymor']]\n"
     ]
    }
   ],
   "source": [
    "stemmer = PorterStemmer()\n",
    "stemmed = [[stemmer.stem(word) for word in t_list] for t_list in tokenized_words]\n",
    "print(stemmed[0:10])"
   ]
  },
  {
   "cell_type": "markdown",
   "metadata": {},
   "source": [
    "# LENGTH OF BODY"
   ]
  },
  {
   "cell_type": "code",
   "execution_count": 35,
   "metadata": {},
   "outputs": [
    {
     "name": "stdout",
     "output_type": "stream",
     "text": [
      "minimum body length:  37\n",
      "maximum body length:  42297\n"
     ]
    }
   ],
   "source": [
    "print(\"minimum body length: \", body.str.len().min())\n",
    "print(\"maximum body length: \", body.str.len().max())"
   ]
  },
  {
   "cell_type": "markdown",
   "metadata": {},
   "source": [
    "# REMOVE STOP WORDS"
   ]
  },
  {
   "cell_type": "code",
   "execution_count": 36,
   "metadata": {},
   "outputs": [
    {
     "name": "stderr",
     "output_type": "stream",
     "text": [
      "[nltk_data] Downloading package stopwords to\n",
      "[nltk_data]     /Users/fenypatel/nltk_data...\n",
      "[nltk_data]   Package stopwords is already up-to-date!\n"
     ]
    }
   ],
   "source": [
    "nltk.download('stopwords')\n",
    "stop_words = stopwords.words('english')"
   ]
  },
  {
   "cell_type": "code",
   "execution_count": 37,
   "metadata": {},
   "outputs": [
    {
     "name": "stdout",
     "output_type": "stream",
     "text": [
      "[['happen', 'tri', 'load', 'fullscreen', 'ad', 'imag', 'creativ', 'exceed', 'size', 'avail', 'show', 'app'], ['ubuntu', 'use', 'code', 'sudo', 'apt', 'instal', 'nvidia', 'cuda', 'toolkit', 'code', 'version', 'cuda', 'packag', 'januari', 'onc', 'run', 'confirm', 'inde', 'code', 'nvcc', 'version', 'code'], ['think', 'manag', 'reject', 'subscript', 'return', 'null', 'code', 'presend', 'code', 'ignor', 'subscript', 'messag', 'instead', 'throw', 'error', 'also', 'notifi', 'user', 'send', 'notif', 'socket', 'user', 'pre', 'code', 'public', 'chatinterceptor', 'resourcebundl', 'resourcebundl', 'channeluserrepo', 'lazi', 'socket', 'thi', 'resourcebundl', 'resourcebundl', 'thi', 'channeluserrepo', 'channeluserrepo', 'thi', 'socket', 'socket', 'overrid', 'public', 'messag', 'lt', 'gt', 'presend', 'nonnul', 'messag', 'lt', 'gt', 'messag', 'nonnul', 'messagechannel', 'channel', 'headeraccessor', 'wrap', 'messag', 'stompcommand', 'subscrib', 'equal', 'headeraccessor', 'getcommand', 'checkisban', 'headeraccessor', 'getdestin', 'headeraccessor', 'getus', 'socket', 'headeraccessor', 'getus', 'servicepath', 'notif', 'new', 'socketrespons', 'resourcebundl', 'getmessag', 'quot', 'err', 'channel', 'ban', 'quot', 'error', 'return', 'null', 'return', 'messag', 'code', 'pre']]\n"
     ]
    }
   ],
   "source": [
    "def remove_stopwords(texts):\n",
    "    return [[word for word in gensim.utils.simple_preprocess(str(doc)) if word not in stop_words] for doc in texts]\n",
    "\n",
    "removed_stop = remove_stopwords(stemmed)\n",
    "print(removed_stop[0:3])"
   ]
  },
  {
   "cell_type": "markdown",
   "metadata": {},
   "source": [
    "# ADD PROCESSED WORDS TO DATAFRAME"
   ]
  },
  {
   "cell_type": "code",
   "execution_count": 38,
   "metadata": {},
   "outputs": [],
   "source": [
    "tokenized_frame = pd.DataFrame(columns = ['tokenized'])\n",
    "j = 0\n",
    "for i in removed_stop:\n",
    "    tokenized_frame.loc[j, 'tokenized'] = i\n",
    "    j = j + 1"
   ]
  },
  {
   "cell_type": "code",
   "execution_count": 39,
   "metadata": {},
   "outputs": [
    {
     "name": "stdout",
     "output_type": "stream",
     "text": [
      "         id title                                               body  tags  \\\n",
      "0  65819402  None  <p>It happened to me when I tried to load a fu...  None   \n",
      "1  65819404  None  <p>If you're on Ubuntu 18.04, you can use <cod...  None   \n",
      "2  65819406  None  <p>I think I managed to reject the subscriptio...  None   \n",
      "3  65819420  None  <p>This task is honestly a horrible example of...  None   \n",
      "4  65819422  None  <p>In Silverstripe 4 the Elemental module is n...  None   \n",
      "\n",
      "                                           tokenized  \n",
      "0  [happen, tri, load, fullscreen, ad, imag, crea...  \n",
      "1  [ubuntu, use, code, sudo, apt, instal, nvidia,...  \n",
      "2  [think, manag, reject, subscript, return, null...  \n",
      "3  [thi, task, honestli, horribl, exampl, thread,...  \n",
      "4  [silverstrip, element, modul, namespac, fixtur...  \n"
     ]
    }
   ],
   "source": [
    "final_data = pd.concat([data, tokenized_frame], axis=1)\n",
    "print(final_data.head())"
   ]
  },
  {
   "cell_type": "code",
   "execution_count": 40,
   "metadata": {},
   "outputs": [],
   "source": [
    "final_data.to_csv('preprocessed.csv')"
   ]
  },
  {
   "cell_type": "code",
   "execution_count": null,
   "metadata": {},
   "outputs": [],
   "source": []
  },
  {
   "cell_type": "code",
   "execution_count": null,
   "metadata": {},
   "outputs": [],
   "source": []
  },
  {
   "cell_type": "code",
   "execution_count": null,
   "metadata": {},
   "outputs": [],
   "source": []
  }
 ],
 "metadata": {
  "kernelspec": {
   "display_name": "Python 3",
   "language": "python",
   "name": "python3"
  },
  "language_info": {
   "codemirror_mode": {
    "name": "ipython",
    "version": 3
   },
   "file_extension": ".py",
   "mimetype": "text/x-python",
   "name": "python",
   "nbconvert_exporter": "python",
   "pygments_lexer": "ipython3",
   "version": "3.8.8"
  }
 },
 "nbformat": 4,
 "nbformat_minor": 4
}
